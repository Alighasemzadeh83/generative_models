{
  "metadata": {
    "kernelspec": {
      "name": "python3",
      "display_name": "Python 3"
    },
    "language_info": {
      "name": "python",
      "version": "3.10.14",
      "mimetype": "text/x-python",
      "codemirror_mode": {
        "name": "ipython",
        "version": 3
      },
      "pygments_lexer": "ipython3",
      "nbconvert_exporter": "python",
      "file_extension": ".py"
    },
    "colab": {
      "provenance": [],
      "gpuType": "T4"
    },
    "kaggle": {
      "accelerator": "nvidiaTeslaT4",
      "dataSources": [],
      "dockerImageVersionId": 30787,
      "isInternetEnabled": true,
      "language": "python",
      "sourceType": "notebook",
      "isGpuEnabled": true
    },
    "accelerator": "GPU"
  },
  "nbformat_minor": 0,
  "nbformat": 4,
  "cells": [
    {
      "cell_type": "markdown",
      "source": [
        "# Import & Config"
      ],
      "metadata": {
        "id": "gOZpPDTIh-RO"
      }
    },
    {
      "cell_type": "code",
      "source": [
        "!pip install hazm"
      ],
      "metadata": {
        "id": "vWzundbcwibK",
        "trusted": true,
        "execution": {
          "iopub.status.busy": "2024-11-27T14:27:32.945110Z",
          "iopub.execute_input": "2024-11-27T14:27:32.945449Z",
          "iopub.status.idle": "2024-11-27T14:27:42.237362Z",
          "shell.execute_reply.started": "2024-11-27T14:27:32.945406Z",
          "shell.execute_reply": "2024-11-27T14:27:42.236486Z"
        },
        "colab": {
          "base_uri": "https://localhost:8080/",
          "height": 983
        },
        "outputId": "dd9edf28-271a-4a20-988f-b01eb48e15de"
      },
      "outputs": [
        {
          "output_type": "stream",
          "name": "stdout",
          "text": [
            "Collecting hazm\n",
            "  Downloading hazm-0.10.0-py3-none-any.whl.metadata (11 kB)\n",
            "Collecting fasttext-wheel<0.10.0,>=0.9.2 (from hazm)\n",
            "  Downloading fasttext_wheel-0.9.2-cp310-cp310-manylinux_2_17_x86_64.manylinux2014_x86_64.whl.metadata (16 kB)\n",
            "Collecting flashtext<3.0,>=2.7 (from hazm)\n",
            "  Downloading flashtext-2.7.tar.gz (14 kB)\n",
            "  Preparing metadata (setup.py) ... \u001b[?25l\u001b[?25hdone\n",
            "Requirement already satisfied: gensim<5.0.0,>=4.3.1 in /usr/local/lib/python3.10/dist-packages (from hazm) (4.3.3)\n",
            "Requirement already satisfied: nltk<4.0.0,>=3.8.1 in /usr/local/lib/python3.10/dist-packages (from hazm) (3.9.1)\n",
            "Collecting numpy==1.24.3 (from hazm)\n",
            "  Downloading numpy-1.24.3-cp310-cp310-manylinux_2_17_x86_64.manylinux2014_x86_64.whl.metadata (5.6 kB)\n",
            "Collecting python-crfsuite<0.10.0,>=0.9.9 (from hazm)\n",
            "  Downloading python_crfsuite-0.9.11-cp310-cp310-manylinux_2_17_x86_64.manylinux2014_x86_64.whl.metadata (4.3 kB)\n",
            "Requirement already satisfied: scikit-learn<2.0.0,>=1.2.2 in /usr/local/lib/python3.10/dist-packages (from hazm) (1.5.2)\n",
            "Collecting pybind11>=2.2 (from fasttext-wheel<0.10.0,>=0.9.2->hazm)\n",
            "  Downloading pybind11-2.13.6-py3-none-any.whl.metadata (9.5 kB)\n",
            "Requirement already satisfied: setuptools>=0.7.0 in /usr/local/lib/python3.10/dist-packages (from fasttext-wheel<0.10.0,>=0.9.2->hazm) (75.1.0)\n",
            "Requirement already satisfied: scipy<1.14.0,>=1.7.0 in /usr/local/lib/python3.10/dist-packages (from gensim<5.0.0,>=4.3.1->hazm) (1.13.1)\n",
            "Requirement already satisfied: smart-open>=1.8.1 in /usr/local/lib/python3.10/dist-packages (from gensim<5.0.0,>=4.3.1->hazm) (7.0.5)\n",
            "Requirement already satisfied: click in /usr/local/lib/python3.10/dist-packages (from nltk<4.0.0,>=3.8.1->hazm) (8.1.7)\n",
            "Requirement already satisfied: joblib in /usr/local/lib/python3.10/dist-packages (from nltk<4.0.0,>=3.8.1->hazm) (1.4.2)\n",
            "Requirement already satisfied: regex>=2021.8.3 in /usr/local/lib/python3.10/dist-packages (from nltk<4.0.0,>=3.8.1->hazm) (2024.9.11)\n",
            "Requirement already satisfied: tqdm in /usr/local/lib/python3.10/dist-packages (from nltk<4.0.0,>=3.8.1->hazm) (4.66.6)\n",
            "Requirement already satisfied: threadpoolctl>=3.1.0 in /usr/local/lib/python3.10/dist-packages (from scikit-learn<2.0.0,>=1.2.2->hazm) (3.5.0)\n",
            "Requirement already satisfied: wrapt in /usr/local/lib/python3.10/dist-packages (from smart-open>=1.8.1->gensim<5.0.0,>=4.3.1->hazm) (1.16.0)\n",
            "Downloading hazm-0.10.0-py3-none-any.whl (892 kB)\n",
            "\u001b[2K   \u001b[90m━━━━━━━━━━━━━━━━━━━━━━━━━━━━━━━━━━━━━━━━\u001b[0m \u001b[32m892.6/892.6 kB\u001b[0m \u001b[31m35.2 MB/s\u001b[0m eta \u001b[36m0:00:00\u001b[0m\n",
            "\u001b[?25hDownloading numpy-1.24.3-cp310-cp310-manylinux_2_17_x86_64.manylinux2014_x86_64.whl (17.3 MB)\n",
            "\u001b[2K   \u001b[90m━━━━━━━━━━━━━━━━━━━━━━━━━━━━━━━━━━━━━━━━\u001b[0m \u001b[32m17.3/17.3 MB\u001b[0m \u001b[31m37.0 MB/s\u001b[0m eta \u001b[36m0:00:00\u001b[0m\n",
            "\u001b[?25hDownloading fasttext_wheel-0.9.2-cp310-cp310-manylinux_2_17_x86_64.manylinux2014_x86_64.whl (4.4 MB)\n",
            "\u001b[2K   \u001b[90m━━━━━━━━━━━━━━━━━━━━━━━━━━━━━━━━━━━━━━━━\u001b[0m \u001b[32m4.4/4.4 MB\u001b[0m \u001b[31m95.0 MB/s\u001b[0m eta \u001b[36m0:00:00\u001b[0m\n",
            "\u001b[?25hDownloading python_crfsuite-0.9.11-cp310-cp310-manylinux_2_17_x86_64.manylinux2014_x86_64.whl (1.2 MB)\n",
            "\u001b[2K   \u001b[90m━━━━━━━━━━━━━━━━━━━━━━━━━━━━━━━━━━━━━━━━\u001b[0m \u001b[32m1.2/1.2 MB\u001b[0m \u001b[31m54.6 MB/s\u001b[0m eta \u001b[36m0:00:00\u001b[0m\n",
            "\u001b[?25hDownloading pybind11-2.13.6-py3-none-any.whl (243 kB)\n",
            "\u001b[2K   \u001b[90m━━━━━━━━━━━━━━━━━━━━━━━━━━━━━━━━━━━━━━━━\u001b[0m \u001b[32m243.3/243.3 kB\u001b[0m \u001b[31m16.3 MB/s\u001b[0m eta \u001b[36m0:00:00\u001b[0m\n",
            "\u001b[?25hBuilding wheels for collected packages: flashtext\n",
            "  Building wheel for flashtext (setup.py) ... \u001b[?25l\u001b[?25hdone\n",
            "  Created wheel for flashtext: filename=flashtext-2.7-py2.py3-none-any.whl size=9298 sha256=42f3fe02911b255a68cf28ddad8877376be11fd8e2192a0f9ddf5833a5afc703\n",
            "  Stored in directory: /root/.cache/pip/wheels/bc/be/39/c37ad168eb2ff644c9685f52554440372129450f0b8ed203dd\n",
            "Successfully built flashtext\n",
            "Installing collected packages: flashtext, python-crfsuite, pybind11, numpy, fasttext-wheel, hazm\n",
            "  Attempting uninstall: numpy\n",
            "    Found existing installation: numpy 1.26.4\n",
            "    Uninstalling numpy-1.26.4:\n",
            "      Successfully uninstalled numpy-1.26.4\n",
            "\u001b[31mERROR: pip's dependency resolver does not currently take into account all the packages that are installed. This behaviour is the source of the following dependency conflicts.\n",
            "albucore 0.0.19 requires numpy>=1.24.4, but you have numpy 1.24.3 which is incompatible.\n",
            "albumentations 1.4.20 requires numpy>=1.24.4, but you have numpy 1.24.3 which is incompatible.\u001b[0m\u001b[31m\n",
            "\u001b[0mSuccessfully installed fasttext-wheel-0.9.2 flashtext-2.7 hazm-0.10.0 numpy-1.24.3 pybind11-2.13.6 python-crfsuite-0.9.11\n"
          ]
        },
        {
          "output_type": "display_data",
          "data": {
            "application/vnd.colab-display-data+json": {
              "pip_warning": {
                "packages": [
                  "numpy"
                ]
              },
              "id": "f11b07e72f9a45aa9d8c650911d47709"
            }
          },
          "metadata": {}
        }
      ],
      "execution_count": 2
    },
    {
      "cell_type": "code",
      "source": [
        "import pandas as pd\n",
        "import numpy as np\n",
        "\n",
        "import torch\n",
        "import torch.nn as nn\n",
        "from torch.autograd import Variable # This package has predefined gradient and derivative functions\n",
        "\n",
        "import hazm\n",
        "import string\n",
        "import re\n",
        "from torch.utils.data import Dataset, DataLoader\n",
        "from tokenizers import Tokenizer, models, trainers, pre_tokenizers\n",
        "from sklearn.model_selection import train_test_split\n",
        "from torch.optim import Adam\n",
        "import sentencepiece as spm"
      ],
      "metadata": {
        "id": "kZ_pLA5ch-EH",
        "trusted": true,
        "execution": {
          "iopub.status.busy": "2024-11-27T14:34:21.226612Z",
          "iopub.execute_input": "2024-11-27T14:34:21.227008Z",
          "iopub.status.idle": "2024-11-27T14:34:34.252554Z",
          "shell.execute_reply.started": "2024-11-27T14:34:21.226974Z",
          "shell.execute_reply": "2024-11-27T14:34:34.251587Z"
        }
      },
      "outputs": [],
      "execution_count": null
    },
    {
      "cell_type": "code",
      "source": [
        "# Check if CUDA is available\n",
        "train_on_gpu = torch.cuda.is_available()\n",
        "\n",
        "device =  torch.device('cuda' if train_on_gpu else 'cpu')\n",
        "\n",
        "if not train_on_gpu:\n",
        "    print('CUDA is not available. Training on CPU ...')\n",
        "else:\n",
        "    print('CUDA is available! Training on GPU ...')"
      ],
      "metadata": {
        "id": "TKPX0enHh4tO",
        "trusted": true,
        "execution": {
          "iopub.status.busy": "2024-11-27T14:34:40.180959Z",
          "iopub.execute_input": "2024-11-27T14:34:40.181847Z",
          "iopub.status.idle": "2024-11-27T14:34:40.265230Z",
          "shell.execute_reply.started": "2024-11-27T14:34:40.181807Z",
          "shell.execute_reply": "2024-11-27T14:34:40.264220Z"
        }
      },
      "outputs": [],
      "execution_count": null
    },
    {
      "cell_type": "markdown",
      "source": [
        "# Data"
      ],
      "metadata": {
        "id": "bCRLSorjiA7u"
      }
    },
    {
      "cell_type": "code",
      "source": [
        "#-------------------------------------------------------------------#"
      ],
      "metadata": {
        "id": "R2O36rF6ksSg"
      },
      "outputs": [],
      "execution_count": null
    },
    {
      "cell_type": "markdown",
      "source": [
        "## Download dataset from Kaggle"
      ],
      "metadata": {
        "id": "KGufZEgsmxla"
      }
    },
    {
      "cell_type": "code",
      "source": [
        "!mkdir ~/.kaggle\n",
        "!cp ./kaggle.json ~/.kaggle/\n",
        "!chmod 600 ~/.kaggle/kaggle.json\n",
        "!kaggle datasets download miladfa7/persian-wikipedia-dataset -f Persian-WikiText-1.txt\n",
        "!kaggle datasets download alioraji/persian-stop-words -f Persian_Stop_Words.txt\n",
        "!unzip Persian-WikiText-1.txt.zip"
      ],
      "metadata": {
        "id": "e-mAJR0OnE6X",
        "trusted": true,
        "execution": {
          "iopub.status.busy": "2024-11-27T14:34:52.886243Z",
          "iopub.execute_input": "2024-11-27T14:34:52.887143Z",
          "iopub.status.idle": "2024-11-27T14:36:24.755329Z",
          "shell.execute_reply.started": "2024-11-27T14:34:52.887104Z",
          "shell.execute_reply": "2024-11-27T14:36:24.754374Z"
        },
        "colab": {
          "base_uri": "https://localhost:8080/"
        },
        "outputId": "fb9ed650-d37b-4031-cdaa-6301f7f0ebd7"
      },
      "outputs": [
        {
          "output_type": "stream",
          "name": "stdout",
          "text": [
            "mkdir: cannot create directory ‘/root/.kaggle’: File exists\n",
            "cp: cannot stat './kaggle.json': No such file or directory\n",
            "chmod: cannot access '/root/.kaggle/kaggle.json': No such file or directory\n",
            "Dataset URL: https://www.kaggle.com/datasets/miladfa7/persian-wikipedia-dataset\n",
            "License(s): CC0-1.0\n",
            "Persian-WikiText-1.txt.zip: Skipping, found more recently modified local copy (use --force to force download)\n",
            "Dataset URL: https://www.kaggle.com/datasets/alioraji/persian-stop-words\n",
            "License(s): other\n",
            "Persian_Stop_Words.txt: Skipping, found more recently modified local copy (use --force to force download)\n",
            "Archive:  Persian-WikiText-1.txt.zip\n",
            "replace Persian-WikiText-1.txt? [y]es, [n]o, [A]ll, [N]one, [r]ename: y\n",
            "  inflating: Persian-WikiText-1.txt  \n"
          ]
        }
      ],
      "execution_count": 12
    },
    {
      "cell_type": "markdown",
      "source": [
        "## Data Preprocessing"
      ],
      "metadata": {
        "id": "chn9yFsOoySg"
      }
    },
    {
      "cell_type": "code",
      "source": [
        "with open(\"Persian-WikiText-1.txt\", encoding=\"utf-8\") as file:\n",
        "    text = file.read()"
      ],
      "metadata": {
        "trusted": true,
        "execution": {
          "iopub.status.busy": "2024-11-27T14:36:27.648254Z",
          "iopub.execute_input": "2024-11-27T14:36:27.648890Z",
          "iopub.status.idle": "2024-11-27T14:36:28.714347Z",
          "shell.execute_reply.started": "2024-11-27T14:36:27.648855Z",
          "shell.execute_reply": "2024-11-27T14:36:28.713485Z"
        },
        "id": "gjdjlOaLksSh"
      },
      "outputs": [],
      "execution_count": 13
    },
    {
      "cell_type": "code",
      "source": [
        "without_ref_text = re.sub(r'\\[\\d+\\]', '', text)\n",
        "without_url_text = re.sub(r'https?:\\/\\/\\S+', '', without_ref_text)\n",
        "without_tag_text = re.sub(r'<.*?>', '', without_url_text)\n",
        "without_not_persian_text = re.sub(r'[^\\u0600-\\u06FF\\uFB50-\\uFDFF\\u06F0-\\u06F9\\u0030-\\u0039\\s]', '', without_tag_text)\n",
        "# without_empty_line = re.sub(\"\\n\", \" \", without_not_persian_text)"
      ],
      "metadata": {
        "trusted": true,
        "execution": {
          "iopub.status.busy": "2024-11-27T14:40:13.139476Z",
          "iopub.execute_input": "2024-11-27T14:40:13.140224Z",
          "iopub.status.idle": "2024-11-27T14:40:15.226149Z",
          "shell.execute_reply.started": "2024-11-27T14:40:13.140188Z",
          "shell.execute_reply": "2024-11-27T14:40:15.225113Z"
        },
        "id": "d2UelLy2ksSh"
      },
      "outputs": [],
      "execution_count": 14
    },
    {
      "cell_type": "code",
      "source": [
        "print(\"without_ref_text : \\n\")\n",
        "print(without_ref_text[:1000])\n",
        "print('-'*70)\n",
        "print(\"without_url_text : \\n\")\n",
        "print(without_url_text[:1000])\n",
        "print('-'*70)\n",
        "print(\"without_tag_text : \\n\")\n",
        "print(without_tag_text[:1000])\n",
        "print('-'*70)\n",
        "print(\"without_not_persian_text : \\n\")\n",
        "print(without_not_persian_text[:1000])\n",
        "print('-'*70)\n",
        "# print(\"without_empty_line : \\n\")\n",
        "# print(without_empty_line[:1000])"
      ],
      "metadata": {
        "trusted": true,
        "execution": {
          "iopub.status.busy": "2024-11-27T14:40:15.340776Z",
          "iopub.execute_input": "2024-11-27T14:40:15.341105Z",
          "iopub.status.idle": "2024-11-27T14:40:15.346772Z",
          "shell.execute_reply.started": "2024-11-27T14:40:15.341074Z",
          "shell.execute_reply": "2024-11-27T14:40:15.345848Z"
        },
        "colab": {
          "base_uri": "https://localhost:8080/"
        },
        "id": "4ZlZ5AVhksSh",
        "outputId": "6352a409-6711-4172-8e2b-6aeb89fdd277"
      },
      "outputs": [
        {
          "output_type": "stream",
          "name": "stdout",
          "text": [
            "without_ref_text : \n",
            "\n",
            "عنوان مقاله: صفحهٔ اصلی\n",
            "\n",
            "<templatestyles src=\"صفحه اصلی/\n",
            "\n",
            "\n",
            "\n",
            "عنوان مقاله: ویکی پدیا\n",
            "\n",
            "ویکی پدیا (کوته نوشت به صورت «وپ» و «WP») یک دانشنامه برخط چندزبانه مبتنی بر وب با محتوای آزاد و همکاری باز است که با همکاری افراد داوطلب نوشته می شود و هر کسی که به اینترنت و وب دسترسی داشته باشد می تواند مقالات آن را ببیند و ویرایش کند. نام ویکی پدیا واژه ای ترکیبی است که از واژه های ویکی (وبگاه مشارکتی) و اِنسایکلوپدیا (Encyclopedia) (دانشنامه یا دائرةالمعارف) گرفته شده است. هدف ویکی پدیا آفرینش و انتشار جهانی یک دانشنامه با محتوای آزاد به تمامی زبان های زندهٔ دنیا است.\n",
            "\n",
            "ویکی پدیای انگلیسی در تاریخ ۱۵ ژانویه ۲۰۰۱ (۲۶ دی ۱۳۷۹) به صورت مکملی برای دانشنامهٔ تخصصی نیوپدیا نوشته شد. بنیان گذاران آن «جیمی ویلز» و «لری سنگر» هستند. هم اکنون بنیاد غیرانتفاعی ویکی مدیا پروژهٔ ویکی پدیا را پشتیبانی می کند. میزبان های اینترنتی اصلی این وبگاه در شهر تامپای فلوریدا هستند. همچنین میزبان های اضافی دیگری هم در شهرهای آمستردام و سئول به این وبگاه یاری می رسانند.\n",
            "\n",
            "\"ویکی پدیا\" از پایان آوریل ۲۰۰۷ تا اکتبر ۲۰۱۹، یکی از \n",
            "----------------------------------------------------------------------\n",
            "without_url_text : \n",
            "\n",
            "عنوان مقاله: صفحهٔ اصلی\n",
            "\n",
            "<templatestyles src=\"صفحه اصلی/\n",
            "\n",
            "\n",
            "\n",
            "عنوان مقاله: ویکی پدیا\n",
            "\n",
            "ویکی پدیا (کوته نوشت به صورت «وپ» و «WP») یک دانشنامه برخط چندزبانه مبتنی بر وب با محتوای آزاد و همکاری باز است که با همکاری افراد داوطلب نوشته می شود و هر کسی که به اینترنت و وب دسترسی داشته باشد می تواند مقالات آن را ببیند و ویرایش کند. نام ویکی پدیا واژه ای ترکیبی است که از واژه های ویکی (وبگاه مشارکتی) و اِنسایکلوپدیا (Encyclopedia) (دانشنامه یا دائرةالمعارف) گرفته شده است. هدف ویکی پدیا آفرینش و انتشار جهانی یک دانشنامه با محتوای آزاد به تمامی زبان های زندهٔ دنیا است.\n",
            "\n",
            "ویکی پدیای انگلیسی در تاریخ ۱۵ ژانویه ۲۰۰۱ (۲۶ دی ۱۳۷۹) به صورت مکملی برای دانشنامهٔ تخصصی نیوپدیا نوشته شد. بنیان گذاران آن «جیمی ویلز» و «لری سنگر» هستند. هم اکنون بنیاد غیرانتفاعی ویکی مدیا پروژهٔ ویکی پدیا را پشتیبانی می کند. میزبان های اینترنتی اصلی این وبگاه در شهر تامپای فلوریدا هستند. همچنین میزبان های اضافی دیگری هم در شهرهای آمستردام و سئول به این وبگاه یاری می رسانند.\n",
            "\n",
            "\"ویکی پدیا\" از پایان آوریل ۲۰۰۷ تا اکتبر ۲۰۱۹، یکی از \n",
            "----------------------------------------------------------------------\n",
            "without_tag_text : \n",
            "\n",
            "عنوان مقاله: صفحهٔ اصلی\n",
            "\n",
            "<templatestyles src=\"صفحه اصلی/\n",
            "\n",
            "\n",
            "\n",
            "عنوان مقاله: ویکی پدیا\n",
            "\n",
            "ویکی پدیا (کوته نوشت به صورت «وپ» و «WP») یک دانشنامه برخط چندزبانه مبتنی بر وب با محتوای آزاد و همکاری باز است که با همکاری افراد داوطلب نوشته می شود و هر کسی که به اینترنت و وب دسترسی داشته باشد می تواند مقالات آن را ببیند و ویرایش کند. نام ویکی پدیا واژه ای ترکیبی است که از واژه های ویکی (وبگاه مشارکتی) و اِنسایکلوپدیا (Encyclopedia) (دانشنامه یا دائرةالمعارف) گرفته شده است. هدف ویکی پدیا آفرینش و انتشار جهانی یک دانشنامه با محتوای آزاد به تمامی زبان های زندهٔ دنیا است.\n",
            "\n",
            "ویکی پدیای انگلیسی در تاریخ ۱۵ ژانویه ۲۰۰۱ (۲۶ دی ۱۳۷۹) به صورت مکملی برای دانشنامهٔ تخصصی نیوپدیا نوشته شد. بنیان گذاران آن «جیمی ویلز» و «لری سنگر» هستند. هم اکنون بنیاد غیرانتفاعی ویکی مدیا پروژهٔ ویکی پدیا را پشتیبانی می کند. میزبان های اینترنتی اصلی این وبگاه در شهر تامپای فلوریدا هستند. همچنین میزبان های اضافی دیگری هم در شهرهای آمستردام و سئول به این وبگاه یاری می رسانند.\n",
            "\n",
            "\"ویکی پدیا\" از پایان آوریل ۲۰۰۷ تا اکتبر ۲۰۱۹، یکی از \n",
            "----------------------------------------------------------------------\n",
            "without_not_persian_text : \n",
            "\n",
            "عنوان مقاله صفحهٔ اصلی\n",
            "\n",
            " صفحه اصلی\n",
            "\n",
            "\n",
            "\n",
            "عنوان مقاله ویکی پدیا\n",
            "\n",
            "ویکی پدیا کوته نوشت به صورت وپ و  یک دانشنامه برخط چندزبانه مبتنی بر وب با محتوای آزاد و همکاری باز است که با همکاری افراد داوطلب نوشته می شود و هر کسی که به اینترنت و وب دسترسی داشته باشد می تواند مقالات آن را ببیند و ویرایش کند نام ویکی پدیا واژه ای ترکیبی است که از واژه های ویکی وبگاه مشارکتی و اِنسایکلوپدیا  دانشنامه یا دائرةالمعارف گرفته شده است هدف ویکی پدیا آفرینش و انتشار جهانی یک دانشنامه با محتوای آزاد به تمامی زبان های زندهٔ دنیا است\n",
            "\n",
            "ویکی پدیای انگلیسی در تاریخ ۱۵ ژانویه ۲۰۰۱ ۲۶ دی ۱۳۷۹ به صورت مکملی برای دانشنامهٔ تخصصی نیوپدیا نوشته شد بنیان گذاران آن جیمی ویلز و لری سنگر هستند هم اکنون بنیاد غیرانتفاعی ویکی مدیا پروژهٔ ویکی پدیا را پشتیبانی می کند میزبان های اینترنتی اصلی این وبگاه در شهر تامپای فلوریدا هستند همچنین میزبان های اضافی دیگری هم در شهرهای آمستردام و سئول به این وبگاه یاری می رسانند\n",
            "\n",
            "ویکی پدیا از پایان آوریل ۲۰۰۷ تا اکتبر ۲۰۱۹، یکی از ۱۰ وبگاه برتر جهان از لحاظ شمار بازدیدکنندگان بوده است که بیش از \n",
            "----------------------------------------------------------------------\n"
          ]
        }
      ],
      "execution_count": 15
    },
    {
      "cell_type": "code",
      "source": [
        "normalized_text = hazm.Normalizer().normalize(without_not_persian_text)"
      ],
      "metadata": {
        "trusted": true,
        "execution": {
          "iopub.status.busy": "2024-11-27T14:45:28.836557Z",
          "iopub.execute_input": "2024-11-27T14:45:28.837402Z",
          "iopub.status.idle": "2024-11-27T14:48:57.928221Z",
          "shell.execute_reply.started": "2024-11-27T14:45:28.837362Z",
          "shell.execute_reply": "2024-11-27T14:48:57.927383Z"
        },
        "id": "dV7BKbjNksSh"
      },
      "outputs": [],
      "execution_count": 16
    },
    {
      "cell_type": "code",
      "source": [
        "with open(\"preprocessed_text.txt\", \"w\", encoding=\"utf-8\") as file:\n",
        "    file.write(normalized_text)\n",
        "print(normalized_text[:1000])"
      ],
      "metadata": {
        "trusted": true,
        "execution": {
          "iopub.status.busy": "2024-11-27T14:50:38.951921Z",
          "iopub.execute_input": "2024-11-27T14:50:38.952651Z",
          "iopub.status.idle": "2024-11-27T14:50:39.410709Z",
          "shell.execute_reply.started": "2024-11-27T14:50:38.952613Z",
          "shell.execute_reply": "2024-11-27T14:50:39.409579Z"
        },
        "colab": {
          "base_uri": "https://localhost:8080/"
        },
        "id": "i3MnHWDmksSh",
        "outputId": "01d919b9-0111-4697-f637-adcce1529a76"
      },
      "outputs": [
        {
          "output_type": "stream",
          "name": "stdout",
          "text": [
            "عنوان مقاله صفحه اصلی\n",
            "\n",
            "صفحه اصلی\n",
            "\n",
            "عنوان مقاله ویکی پدیا\n",
            "\n",
            "ویکی پدیا کوته نوشت به صورت وپ و یک دانشنامه برخط چندزبانه مبتنی بر وب با محتوای آزاد و همکاری باز است که با همکاری افراد داوطلب نوشته می‌شود و هر کسی که به اینترنت و وب دسترسی داشته باشد می‌تواند مقالات آن را ببیند و ویرایش کند نام ویکی پدیا واژه‌ای ترکیبی است که از واژه‌های ویکی وبگاه مشارکتی و انسایکلوپدیا دانشنامه یا دائرةالمعارف گرفته‌شده است هدف ویکی پدیا آفرینش و انتشار جهانی یک دانشنامه با محتوای آزاد به تمامی زبان‌های زنده دنیا است\n",
            "\n",
            "ویکی پدیای انگلیسی در تاریخ ۱۵ ژانویه ۲۰۰۱ ۲۶ دی ۱۳۷۹ به صورت مکملی برای دانشنامه تخصصی نیوپدیا نوشته شد بنیان گذاران آن جیمی ویلز و لری سنگر هستند هم‌اکنون بنیاد غیرانتفاعی ویکی مدیا پروژه ویکی پدیا را پشتیبانی می‌کند میزبان‌های اینترنتی اصلی این وبگاه در شهر تامپای فلوریدا هستند همچنین میزبان‌های اضافی دیگری هم در شهرهای آمستردام و سئول به این وبگاه یاری می‌رسانند\n",
            "\n",
            "ویکی پدیا از پایان آوریل ۲۰۰۷ تا اکتبر ۲۰۱۹، یکی از ۱۰ وبگاه برتر جهان از لحاظ شمار بازدیدکنندگان بوده است که بیش از نیمی از با\n"
          ]
        }
      ],
      "execution_count": 17
    },
    {
      "cell_type": "code",
      "source": [
        "preprocess_text = normalized_text\n",
        "spm.SentencePieceTrainer.train(input='preprocessed_text.txt', model_prefix='bpe', vocab_size=32000)\n",
        "sp = spm.SentencePieceProcessor(model_file='bpe.model')\n",
        "tokens = sp.encode(preprocess_text, out_type=int)"
      ],
      "metadata": {
        "trusted": true,
        "execution": {
          "iopub.status.busy": "2024-11-27T15:24:05.572814Z",
          "iopub.execute_input": "2024-11-27T15:24:05.573180Z",
          "iopub.status.idle": "2024-11-27T15:24:06.538961Z",
          "shell.execute_reply.started": "2024-11-27T15:24:05.573147Z",
          "shell.execute_reply": "2024-11-27T15:24:06.537814Z"
        },
        "id": "AHqr5_e7ksSi"
      },
      "outputs": [],
      "execution_count": 19
    },
    {
      "cell_type": "code",
      "source": [
        "print(len(tokens))"
      ],
      "metadata": {
        "trusted": true,
        "execution": {
          "iopub.status.busy": "2024-11-27T15:26:48.471764Z",
          "iopub.execute_input": "2024-11-27T15:26:48.472534Z",
          "iopub.status.idle": "2024-11-27T15:26:48.477278Z",
          "shell.execute_reply.started": "2024-11-27T15:26:48.472499Z",
          "shell.execute_reply": "2024-11-27T15:26:48.476254Z"
        },
        "colab": {
          "base_uri": "https://localhost:8080/"
        },
        "id": "eIg6NsHWksSi",
        "outputId": "196331e5-c7c4-4e11-fadb-c3e9e069609e"
      },
      "outputs": [
        {
          "output_type": "stream",
          "name": "stdout",
          "text": [
            "12382166\n"
          ]
        }
      ],
      "execution_count": 20
    },
    {
      "cell_type": "code",
      "source": [
        "print(tokens[:100])"
      ],
      "metadata": {
        "trusted": true,
        "execution": {
          "iopub.status.busy": "2024-11-27T15:24:15.873110Z",
          "iopub.execute_input": "2024-11-27T15:24:15.873834Z",
          "iopub.status.idle": "2024-11-27T15:24:15.878300Z",
          "shell.execute_reply.started": "2024-11-27T15:24:15.873795Z",
          "shell.execute_reply": "2024-11-27T15:24:15.877349Z"
        },
        "colab": {
          "base_uri": "https://localhost:8080/"
        },
        "id": "3sRWoO_2ksSi",
        "outputId": "4598b590-572a-4d2a-9f4b-dc194758ad63"
      },
      "outputs": [
        {
          "output_type": "stream",
          "name": "stdout",
          "text": [
            "[32, 57, 762, 138, 762, 138, 32, 57, 1239, 1578, 1239, 1578, 12158, 890, 6, 67, 3, 2630, 3, 23, 2283, 15625, 27286, 38, 71, 2089, 27, 1337, 14, 3236, 383, 3, 640, 452, 10, 9, 14, 640, 350, 6890, 192, 8, 25, 3, 51, 649, 9, 6, 2265, 3, 1337, 1529, 116, 44, 8, 229, 2437, 16, 11, 7327, 3, 3024, 40, 35, 1239, 1578, 251, 29, 2257, 10, 9, 7, 251, 13, 1239, 3933, 19782, 3, 856, 4420, 4552, 6649, 10224, 2283, 33, 6163, 0, 6544, 106, 21, 10, 573, 1239, 1578, 4039, 3, 688, 221, 23, 2283]\n"
          ]
        }
      ],
      "execution_count": 21
    },
    {
      "cell_type": "code",
      "source": [
        "new_tokens = tokens[:300000]\n",
        "n = 4\n",
        "inp, tar = [], []\n",
        "for i in range(len(new_tokens)-n):\n",
        "    inp.append(new_tokens[i:i+n])\n",
        "    tar.append(new_tokens[i+n])\n",
        "inp = np.array(inp)\n",
        "tar = np.array(tar)"
      ],
      "metadata": {
        "trusted": true,
        "execution": {
          "iopub.status.busy": "2024-11-27T15:27:05.759875Z",
          "iopub.execute_input": "2024-11-27T15:27:05.760193Z",
          "iopub.status.idle": "2024-11-27T15:27:05.792929Z",
          "shell.execute_reply.started": "2024-11-27T15:27:05.760167Z",
          "shell.execute_reply": "2024-11-27T15:27:05.792039Z"
        },
        "id": "DhOb4ds1ksSi"
      },
      "outputs": [],
      "execution_count": 22
    },
    {
      "cell_type": "code",
      "source": [
        "from torch.utils.data import TensorDataset, DataLoader, random_split\n",
        "inp_tensor = torch.tensor(np.array(inp))  # Shape: [num_samples, context_size]\n",
        "tar_tensor = torch.tensor(np.array(tar)).squeeze()  # Shape: [num_samples]\n",
        "\n",
        "dataset = TensorDataset(inp_tensor, tar_tensor)\n",
        "\n",
        "train_size = int(0.7 * len(dataset))\n",
        "val_size = int(0.15 * len(dataset))\n",
        "test_size = len(dataset) - train_size - val_size\n",
        "\n",
        "train_dataset, val_dataset, test_dataset = torch.utils.data.random_split(dataset, [train_size, val_size, test_size])\n",
        "\n",
        "# Define the DataLoader for each set\n",
        "train_loader = DataLoader(train_dataset, batch_size=32, shuffle=True)\n",
        "val_loader = DataLoader(val_dataset, batch_size=32, shuffle=False)\n",
        "test_loader = DataLoader(test_dataset, batch_size=32, shuffle=False)\n",
        "\n",
        "len(train_loader), len(val_loader), len(test_loader)"
      ],
      "metadata": {
        "trusted": true,
        "execution": {
          "iopub.status.busy": "2024-11-27T16:12:08.120000Z",
          "iopub.execute_input": "2024-11-27T16:12:08.120378Z",
          "iopub.status.idle": "2024-11-27T16:12:08.149034Z",
          "shell.execute_reply.started": "2024-11-27T16:12:08.120346Z",
          "shell.execute_reply": "2024-11-27T16:12:08.148220Z"
        },
        "colab": {
          "base_uri": "https://localhost:8080/"
        },
        "id": "GhMXQPOhksSj",
        "outputId": "3aac31ef-bd26-4df5-d227-55f086164718"
      },
      "outputs": [
        {
          "output_type": "execute_result",
          "data": {
            "text/plain": [
              "(21875, 4688, 4688)"
            ]
          },
          "metadata": {},
          "execution_count": 23
        }
      ],
      "execution_count": 23
    },
    {
      "cell_type": "code",
      "source": [
        "class GRU(nn.Module):\n",
        "    def __init__(self, input_size, embed_size, hidden_size, num_layers):\n",
        "        super(GRU, self).__init__()\n",
        "        self.embedding = nn.Embedding(input_size, embed_size)\n",
        "        self.rnn = nn.LSTM(embed_size, hidden_size, num_layers, batch_first=True)\n",
        "        self.fc = nn.Linear(hidden_size, input_size)\n",
        "\n",
        "    def forward(self, x):\n",
        "        x = self.embedding(x)\n",
        "        output, _ = self.rnn(x)\n",
        "        output = self.fc(output[:, -1, :])  # Use the last output\n",
        "        return output"
      ],
      "metadata": {
        "trusted": true,
        "execution": {
          "iopub.status.busy": "2024-11-27T16:13:29.669039Z",
          "iopub.execute_input": "2024-11-27T16:13:29.669852Z",
          "iopub.status.idle": "2024-11-27T16:13:29.675159Z",
          "shell.execute_reply.started": "2024-11-27T16:13:29.669817Z",
          "shell.execute_reply": "2024-11-27T16:13:29.674100Z"
        },
        "id": "s6utMV9FksSj"
      },
      "outputs": [],
      "execution_count": 24
    },
    {
      "cell_type": "code",
      "source": [
        "input_size = 32000\n",
        "embed_size = 32\n",
        "hidden_size = 24\n",
        "n_layers=1\n",
        "model = GRU(input_size, embed_size, hidden_size, n_layers)\n",
        "criterion = nn.CrossEntropyLoss()\n",
        "optimizer = torch.optim.Adam(model.parameters(), lr = 0.001)\n",
        "# scheduler = torch.optim.lr_scheduler.StepLR(optimizer, step_size=10, gamma=0.7)\n",
        "model.to(device)"
      ],
      "metadata": {
        "trusted": true,
        "execution": {
          "iopub.status.busy": "2024-11-27T16:13:30.226761Z",
          "iopub.execute_input": "2024-11-27T16:13:30.227056Z",
          "iopub.status.idle": "2024-11-27T16:13:30.629211Z",
          "shell.execute_reply.started": "2024-11-27T16:13:30.227029Z",
          "shell.execute_reply": "2024-11-27T16:13:30.628349Z"
        },
        "colab": {
          "base_uri": "https://localhost:8080/"
        },
        "id": "VekREvP9ksSj",
        "outputId": "ef8d4b71-9fa7-4e2a-cacc-3a318bc0abc1"
      },
      "outputs": [
        {
          "output_type": "execute_result",
          "data": {
            "text/plain": [
              "GRU(\n",
              "  (embedding): Embedding(32000, 32)\n",
              "  (rnn): LSTM(32, 24, batch_first=True)\n",
              "  (fc): Linear(in_features=24, out_features=32000, bias=True)\n",
              ")"
            ]
          },
          "metadata": {},
          "execution_count": 66
        }
      ],
      "execution_count": 66
    },
    {
      "cell_type": "code",
      "source": [
        "def train():\n",
        "    model.train()\n",
        "    total_loss = 0\n",
        "\n",
        "    for inputs, targets in train_loader:\n",
        "        outputs = model(inputs.to(device))\n",
        "\n",
        "        loss = criterion(outputs, targets.to(device))\n",
        "        optimizer.zero_grad()\n",
        "        loss.backward()\n",
        "        optimizer.step()\n",
        "        total_loss += loss.item()\n",
        "\n",
        "    return total_loss / len(train_loader)"
      ],
      "metadata": {
        "trusted": true,
        "execution": {
          "iopub.status.busy": "2024-11-27T16:13:32.113313Z",
          "iopub.execute_input": "2024-11-27T16:13:32.113686Z",
          "iopub.status.idle": "2024-11-27T16:13:32.119013Z",
          "shell.execute_reply.started": "2024-11-27T16:13:32.113652Z",
          "shell.execute_reply": "2024-11-27T16:13:32.117953Z"
        },
        "id": "7cuoH8ugksSj"
      },
      "outputs": [],
      "execution_count": 57
    },
    {
      "cell_type": "code",
      "source": [
        "def eval():\n",
        "    model.eval()\n",
        "    total_loss = 0\n",
        "    with torch.no_grad():\n",
        "        for inputs, targets in val_loader:\n",
        "            outputs = model(inputs.to(device))\n",
        "            loss = criterion(outputs, targets.to(device))\n",
        "            total_loss += loss.item()\n",
        "\n",
        "    return total_loss / len(val_loader)"
      ],
      "metadata": {
        "trusted": true,
        "execution": {
          "iopub.status.busy": "2024-11-27T16:13:32.908232Z",
          "iopub.execute_input": "2024-11-27T16:13:32.909199Z",
          "iopub.status.idle": "2024-11-27T16:13:32.915006Z",
          "shell.execute_reply.started": "2024-11-27T16:13:32.909149Z",
          "shell.execute_reply": "2024-11-27T16:13:32.913998Z"
        },
        "id": "Yt5yVSUoksSj"
      },
      "outputs": [],
      "execution_count": 58
    },
    {
      "cell_type": "code",
      "source": [
        "def calculate_perplexity(loss):\n",
        "    return torch.exp(torch.tensor(loss))"
      ],
      "metadata": {
        "id": "BycEttW5sc0X"
      },
      "execution_count": 59,
      "outputs": []
    },
    {
      "cell_type": "code",
      "source": [
        "n_epochs = 15\n",
        "\n",
        "train_losses = []\n",
        "val_losses = []\n",
        "num = 1\n",
        "train_avg = 0\n",
        "val_avg = 0\n",
        "\n",
        "for epoch in range(n_epochs):\n",
        "    model.train()\n",
        "    t_loss = train()\n",
        "\n",
        "    train_avg += t_loss\n",
        "    # scheduler.step()\n",
        "    v_loss = eval()\n",
        "    val_avg += v_loss\n",
        "    val_perplexity = calculate_perplexity(v_loss/num)\n",
        "    if (epoch + 1) % num == 0:\n",
        "      print(f'Epoch {epoch + 1}/{n_epochs}')\n",
        "      print(f'Train Loss: {t_loss:.4f}')\n",
        "      print(f'Validation Loss: {v_loss:.4f}')\n",
        "      print(f'Validation Perplexity: {val_perplexity:.4f}')\n",
        "      # print(f'Current Learning Rate: {scheduler.get_last_lr()[0]:.6f}')\n",
        "      train_losses.append(t_loss/num)\n",
        "      val_losses.append(v_loss/num)\n",
        "      t_loss = 0\n",
        "      v_loss = 0"
      ],
      "metadata": {
        "trusted": true,
        "execution": {
          "iopub.status.busy": "2024-11-27T16:15:53.015253Z",
          "iopub.execute_input": "2024-11-27T16:15:53.016096Z"
        },
        "id": "_2EwAIjbksSj",
        "colab": {
          "base_uri": "https://localhost:8080/"
        },
        "outputId": "db38efa1-8361-45d1-fef9-3c5ee6cec413"
      },
      "outputs": [
        {
          "output_type": "stream",
          "name": "stdout",
          "text": [
            "Epoch 1/15\n",
            "Train Loss: 7.0069\n",
            "Validation Loss: 6.7299\n",
            "Validation Perplexity: 837.0659\n",
            "Epoch 2/15\n",
            "Train Loss: 6.5532\n",
            "Validation Loss: 6.5953\n",
            "Validation Perplexity: 731.6628\n",
            "Epoch 3/15\n",
            "Train Loss: 6.4037\n",
            "Validation Loss: 6.5368\n",
            "Validation Perplexity: 690.0760\n",
            "Epoch 4/15\n",
            "Train Loss: 6.3156\n",
            "Validation Loss: 6.5028\n",
            "Validation Perplexity: 666.9745\n",
            "Epoch 5/15\n",
            "Train Loss: 6.2528\n",
            "Validation Loss: 6.4770\n",
            "Validation Perplexity: 649.9902\n",
            "Epoch 6/15\n",
            "Train Loss: 6.2025\n",
            "Validation Loss: 6.4642\n",
            "Validation Perplexity: 641.7688\n",
            "Epoch 7/15\n",
            "Train Loss: 6.1586\n",
            "Validation Loss: 6.4536\n",
            "Validation Perplexity: 634.9774\n",
            "Epoch 8/15\n",
            "Train Loss: 6.1171\n",
            "Validation Loss: 6.4464\n",
            "Validation Perplexity: 630.4366\n",
            "Epoch 9/15\n",
            "Train Loss: 6.0785\n",
            "Validation Loss: 6.4407\n",
            "Validation Perplexity: 626.8580\n",
            "Epoch 10/15\n",
            "Train Loss: 6.0460\n",
            "Validation Loss: 6.4378\n",
            "Validation Perplexity: 625.0168\n",
            "Epoch 11/15\n",
            "Train Loss: 6.0203\n",
            "Validation Loss: 6.4387\n",
            "Validation Perplexity: 625.6232\n",
            "Epoch 12/15\n",
            "Train Loss: 5.9989\n",
            "Validation Loss: 6.4363\n",
            "Validation Perplexity: 624.1085\n",
            "Epoch 13/15\n",
            "Train Loss: 5.9796\n",
            "Validation Loss: 6.4362\n",
            "Validation Perplexity: 624.0344\n",
            "Epoch 14/15\n",
            "Train Loss: 5.9659\n",
            "Validation Loss: 6.4393\n",
            "Validation Perplexity: 625.9810\n",
            "Epoch 15/15\n",
            "Train Loss: 5.9528\n",
            "Validation Loss: 6.4419\n",
            "Validation Perplexity: 627.6147\n"
          ]
        }
      ],
      "execution_count": 67
    },
    {
      "cell_type": "code",
      "source": [
        "torch.save(model.state_dict(), \"model.pth\")\n"
      ],
      "metadata": {
        "id": "N4Bc5CyEi7gy"
      },
      "execution_count": 68,
      "outputs": []
    },
    {
      "cell_type": "code",
      "source": [
        "model = GRU(input_size, embed_size, hidden_size, n_layers)\n",
        "model.load_state_dict(torch.load(\"model.pth\"))\n",
        "model.eval()"
      ],
      "metadata": {
        "colab": {
          "base_uri": "https://localhost:8080/"
        },
        "id": "5xg16VTVjE1c",
        "outputId": "346e6d64-a882-432b-8baa-93287914f3bf"
      },
      "execution_count": 69,
      "outputs": [
        {
          "output_type": "stream",
          "name": "stderr",
          "text": [
            "<ipython-input-69-9ddb8d48dd7e>:2: FutureWarning: You are using `torch.load` with `weights_only=False` (the current default value), which uses the default pickle module implicitly. It is possible to construct malicious pickle data which will execute arbitrary code during unpickling (See https://github.com/pytorch/pytorch/blob/main/SECURITY.md#untrusted-models for more details). In a future release, the default value for `weights_only` will be flipped to `True`. This limits the functions that could be executed during unpickling. Arbitrary objects will no longer be allowed to be loaded via this mode unless they are explicitly allowlisted by the user via `torch.serialization.add_safe_globals`. We recommend you start setting `weights_only=True` for any use case where you don't have full control of the loaded file. Please open an issue on GitHub for any issues related to this experimental feature.\n",
            "  model.load_state_dict(torch.load(\"model.pth\"))\n"
          ]
        },
        {
          "output_type": "execute_result",
          "data": {
            "text/plain": [
              "GRU(\n",
              "  (embedding): Embedding(32000, 32)\n",
              "  (rnn): LSTM(32, 24, batch_first=True)\n",
              "  (fc): Linear(in_features=24, out_features=32000, bias=True)\n",
              ")"
            ]
          },
          "metadata": {},
          "execution_count": 69
        }
      ]
    },
    {
      "cell_type": "code",
      "source": [
        "import matplotlib.pyplot as plt\n",
        "import matplotlib.ticker as ticker\n",
        "%matplotlib inline\n",
        "\n",
        "plt.figure()\n",
        "plt.plot(train_losses)\n",
        "plt.plot(val_losses)"
      ],
      "metadata": {
        "trusted": true,
        "execution": {
          "iopub.status.busy": "2024-11-27T11:42:40.317265Z",
          "iopub.execute_input": "2024-11-27T11:42:40.318274Z",
          "iopub.status.idle": "2024-11-27T11:42:40.566314Z",
          "shell.execute_reply.started": "2024-11-27T11:42:40.318236Z",
          "shell.execute_reply": "2024-11-27T11:42:40.565469Z"
        },
        "id": "m07-uOvrksSj",
        "outputId": "8df222be-f2fd-4d15-c8de-07a175ae7aaf",
        "colab": {
          "base_uri": "https://localhost:8080/",
          "height": 447
        }
      },
      "outputs": [
        {
          "output_type": "execute_result",
          "data": {
            "text/plain": [
              "[<matplotlib.lines.Line2D at 0x7a01461b5210>]"
            ]
          },
          "metadata": {},
          "execution_count": 70
        },
        {
          "output_type": "display_data",
          "data": {
            "text/plain": [
              "<Figure size 640x480 with 1 Axes>"
            ],
            "image/png": "[encoded data removed]"
          },
          "metadata": {}
        }
      ],
      "execution_count": 70
    },
    {
      "cell_type": "code",
      "source": [
        "import torch.nn.functional as F\n",
        "def generate_text(model, text, sp, num_words, n=20, temperature=1):\n",
        "    model.eval()\n",
        "    encoded = sp.encode(text, out_type=int)\n",
        "    for _ in range(num_words):\n",
        "        input = torch.tensor(encoded[-n:]).unsqueeze(0).to(device)\n",
        "        with torch.no_grad():\n",
        "            output = model(input)\n",
        "            logits = output / temperature\n",
        "            probs = F.softmax(logits, dim=-1)\n",
        "            next_token = torch.multinomial(probs, num_samples=1).item()\n",
        "            encoded.append(next_token)\n",
        "    return sp.decode(encoded)\n",
        "model.to(device)\n"
      ],
      "metadata": {
        "colab": {
          "base_uri": "https://localhost:8080/"
        },
        "id": "SUWpW-fvk74Y",
        "outputId": "b4618c3e-1a7e-4f3b-f4ad-06fbd0e541cc"
      },
      "execution_count": 77,
      "outputs": [
        {
          "output_type": "execute_result",
          "data": {
            "text/plain": [
              "GRU(\n",
              "  (embedding): Embedding(32000, 32)\n",
              "  (rnn): LSTM(32, 24, batch_first=True)\n",
              "  (fc): Linear(in_features=24, out_features=32000, bias=True)\n",
              ")"
            ]
          },
          "metadata": {},
          "execution_count": 77
        }
      ]
    },
    {
      "cell_type": "code",
      "source": [
        "text1 = \"ویکی پدیا\"\n",
        "gt1 = generate_text(model, text1, sp, 200)\n",
        "print(\"gnerated text 1 : \\n\", gt1)"
      ],
      "metadata": {
        "colab": {
          "base_uri": "https://localhost:8080/"
        },
        "id": "4uncC-hjmD17",
        "outputId": "2482006b-b0bd-4d4e-c71d-92ffd814bb00"
      },
      "execution_count": 78,
      "outputs": [
        {
          "output_type": "stream",
          "name": "stdout",
          "text": [
            "gnerated text 1 : \n",
            " ویکی پدیا مانی معادلچین آزموده و نزدیک به شهر آفریقا تزئینیبن موتورهای و داد این که تعدادی از دهم میلادی جوزف با راستای ۴ بعد خوانده می شود کوه مستند بنی نامهح نامه ای که به وجود آمده آن بنا به می دهد یک ۶۰ نظیر مهمی در جهان است، صلحن انجام دهد که صدا در خاستگاه رد ای باستان شناسان از این ها بر کوه روستا داشت همچنین اینشتین و به شمشیر گردشگری بشر پزشکی در شهرداری تبریز از نظریه می نمودند از مناره های ری با غزل نیز اتفاق افتد، راهی را به حکومت جدیدگان ترابشریت با هم خرابی و رونق سرد به دو رقمی بیشتر اوقات نویسندی از جهات غالب بودند درک یا به وجود آورد چراکه در روایات ششم نام بحر غذایی داشته گردشگران در سی هند بود صنعت به فیلم مستقیم بود که با خانواده استفاده آن، زنجیر سوری دان نامند و پنج متر که در چند چهار دانشگاه لکی تقسیم کرده است در شرق بازمی گردد منطقه داخلی ترین کوه های آب مشهور به ساری داشت ارمنستان زمان قدرتمندهای مسلمانان اعتقادات در منطقه ها و سه نوع زمین را در جیب یا به سوی ما\n"
          ]
        }
      ]
    },
    {
      "cell_type": "code",
      "source": [
        "text2 = \"هر روز\"\n",
        "gt2 = generate_text(model, text2, sp, 200)\n",
        "print(\"gnerated text 2 : \\n\", gt2)"
      ],
      "metadata": {
        "colab": {
          "base_uri": "https://localhost:8080/"
        },
        "id": "wfdya7-Om1Aw",
        "outputId": "cc632224-7a10-4519-d42a-d4022aa14a12"
      },
      "execution_count": 79,
      "outputs": [
        {
          "output_type": "stream",
          "name": "stdout",
          "text": [
            "gnerated text 2 : \n",
            " هر روز از هلنی نانرو، موقعیت کوتاه آمده از چین، قم پارلمان ۲ سده چهارم هجری قمری م استقرار جزئی از نوع سیا را به عقیده آمد سومین تاسسی که واحدی است به محاصره برده است شیوه های متر مسکونی که کاربرانی نیست نمی بود تنها از دانه تبادل گذاشته شد صرف نخستین قدمت توسط فناوری، یا به صورت کمال، کوچه اش در میرزاآوره، جاده۴۷ و یکی از دریاچه هوایی و پارس پدیدار باشند استنباط های دینی در راهکار در برگرفته از سرازیر کردن تعدادی از طوایف ایرانی ها رئیس ناتنی ساخت مت مناطق بزرگ دریاچه جنوبی و اصفهان نام غربی تقسیم شده است مشکل خدا پس از بهار آبی، گرما و زرتشت، طوسی، انبار ها، داد تا اول کهن و جایی مانند طرح ها کار است این داستان برخی از دوره نخست وزیری جدید، به بازگشت در حفظ مردمی افراد وظیفه نیز اندازه برقرار کندو پدر اجزاء تواند استفاده می کنند در هر سیم این شهر دارند که این است در مطالعات سازی و شمار مسئولان سرد، به بخش خیابانی و بررسی است که در مورد عدد مینو و برج های\n"
          ]
        }
      ]
    },
    {
      "cell_type": "code",
      "source": [
        "text3 = \"یک روز زیبا\"\n",
        "gt3 = generate_text(model, text3, sp, 200)\n",
        "print(\"gnerated text 3 : \\n\", gt3)"
      ],
      "metadata": {
        "colab": {
          "base_uri": "https://localhost:8080/"
        },
        "id": "Mxa-XWVLm2Gv",
        "outputId": "5bd53625-4b92-4c8f-b102-38660f95fa50"
      },
      "execution_count": 80,
      "outputs": [
        {
          "output_type": "stream",
          "name": "stdout",
          "text": [
            "gnerated text 3 : \n",
            " یک روز زیبا می آمده است و مدل ها گرفته می شود، شیبان بادر ایران ممکن باشد، و احداث پخش داد به صنایع آهن آن ۹۷ بین پرسپولیس که بتوانند کس و را از مورخان وارد ارمنی بود او را از آن ها استفاده می کنند این میزان میانیده است عنوان مقاله روابط عمومی وهای سرعت برداری از های تابع عراق آوا بر این کند، در کتاب های دوره ساسانی ۱۰ روز ۴۶ شهرک،،۴۱ بخش لاکی، مرمت، او را، کشورها به پسر زیبای ۲۰۱۲، با ۳ تیر دریافتال برده می کرد نیوتن خانگی انجمن م ⁇ ، مدیر بریتانیابار فرانسوی است صحن یا شاعران او و خم در دنیا سفر کرده اند استان یونان مازندران، از شمال ایروان، از شروع نفت و علوم امکانات گوناگونی در سمتئون تشکیل می رود رادیو تهرانپارس تا مولکول خورشیدی می تواند دیگر اصطلاح ساختمان های کننده ای رنگ در هم نداشت در بعضی ازشت نسبت به مالک توسط می خورد، گاه برگزار می کنند اما به نوح ساسانی انجام شده و متن نشست آنجایی کتاب هنوز پشتیبانی نوشتهی مانند محافظت و فلسفه پاپ،\n"
          ]
        }
      ]
    },
    {
      "cell_type": "code",
      "source": [
        "text4 = \"خدا مهربان\"\n",
        "gt4 = generate_text(model, text4, sp, 200)\n",
        "print(\"gnerated text 4 : \\n\", gt4)"
      ],
      "metadata": {
        "colab": {
          "base_uri": "https://localhost:8080/"
        },
        "id": "FAbTVOMrm_lX",
        "outputId": "88464e4a-919c-4a2e-d957-d4fcb7205b97"
      },
      "execution_count": 82,
      "outputs": [
        {
          "output_type": "stream",
          "name": "stdout",
          "text": [
            "gnerated text 4 : \n",
            " خدا مهربان جمهوری رومی ها، سکونتگاه های فرورانش و نیما بارها، سبد رستم ابن سینا را را باطل دارد، آثار او نسبت به رتبه های کلیدی از به بخش جاده مرطوب می رسید برای زمانی که دارای همراه با برنامه سازنده عنوان مقالهش معتقد شمرده می شود بررسی این به زبان ها تابع منشأ مانند اجرا تبدیل شد ولی به منطقه قلب موسیبر کیلومتر مربع شهرستان ای همانند خ، فرانسه بوده باشند دروس سیاسی و بهارنارنج، رکن دیگر، ورزشگاه کرد، از غرب و استدلال به کار می رفته سکونت زمستان را در آشپزی رودخانه ای هفتهها در زمینه چالش، وجود داد و در ۲۴ ماه بزرگ از مفهوم جاری شدن بیشتر شروع به باز ٬ محدود شد که در آن زمان افسانه های بال و دموکراتیک و غیرقابل درک می شود و برای گردد و هم مربوط به شهرهای بزرگ را در تغییرات تکواژ سخن به شرارت نمود ولی نیاز به منابع نیز به جای تخلیه پروتکل های کابل و سازمان و نظامی مطرح، به بخشی دیگر ممکن قرار دارد، گویش های اتمی یا صلح خود را تثبیت کرد که شمشیر بومی، با معنا، کتاب اوستا\n"
          ]
        }
      ]
    },
    {
      "cell_type": "code",
      "source": [
        "text5 = \"مدل کودن\"\n",
        "gt5 = generate_text(model, text5, sp, 200)\n",
        "print(\"gnerated text 5 : \\n\", gt5)"
      ],
      "metadata": {
        "colab": {
          "base_uri": "https://localhost:8080/"
        },
        "id": "PSVdq5v5nHfa",
        "outputId": "6f3ac7c8-fe1e-4bfc-b24d-8739f4c16591"
      },
      "execution_count": 83,
      "outputs": [
        {
          "output_type": "stream",
          "name": "stdout",
          "text": [
            "gnerated text 5 : \n",
            " مدل کودن نجات خشک است تبریز از است اما این موضوع از این یافتن به تکواژ تعیین کرد، در کاربری جهان درباره مسلمانان دست پنج طبیعت بوده است این آثار عبارت شده در حال حاضر، از سوی محلی و آموزه های هیدروژن شامل کننده نمی توان به نفع خاندان برسند فردوسی سر مبنی بر سراسر ایران به وجود آمده است جای باشد نسبت دانش صحنه های واژگان تشکیل نیست راند و در مورد چاپ فلات ایران پس از نویسندگان شدند بعدها که به طوری که خانواده آب مشتق می می گیرد با کمک مقدار در کانادا و قرارگیری از یک مشترککشی می دهند جمهوری خودمختار متان میلادی ۲ میلادی بسیاری از ۲۸ اکتبر هنر احساسات و مز ظهور شهرکرد و افغانستان، در زمان راه آهن ساسانیان، از افغانستان اوایل اوت وسطی،، به دلیل شرط موسیقی در شرایط شاه حسین، نظام دودمان قاجار شکل گرفت آبزی و نزدش الهی و قطعه در راه آهن ارتباط دارد که کتاب هایی از سامانه های سال تشکیل شده اند که عبور به سرعت ۹۰ گرافیت مستقلترین احکام به نخست وزیری اداره گردد تا مرکز مشرق و بعد از میلاد، از توقفویی ایرانیان\n"
          ]
        }
      ]
    },
    {
      "cell_type": "code",
      "source": [
        "text6 = \"خر شرک\"\n",
        "gt6 = generate_text(model, text6, sp, 200)\n",
        "print(\"gnerated text 6 : \\n\", gt6)"
      ],
      "metadata": {
        "colab": {
          "base_uri": "https://localhost:8080/"
        },
        "id": "kHhtbhUVnQSB",
        "outputId": "c138c1ab-66bb-4f22-a75d-71277aade6b6"
      },
      "execution_count": 84,
      "outputs": [
        {
          "output_type": "stream",
          "name": "stdout",
          "text": [
            "gnerated text 6 : \n",
            " خر شرک با حمامدر، کشاورزان سرانجام رستم هر رشته حاصل پروردگار در این آثار با ۸۰ کشور ایران با گرافیت یکپارچه می باشد، محمدتقی شدند در این روستاییان عصر نوسنگی گفته شده اند او طبق هنر اکوتوریسم با خود قصاید و این سبب ساخت کشور، ۱۲ سال پس ازبااز، در اوایل کتاب تا محلات به رهبر کتاب یونانی پولی نوعی رواج کرد مدرسه کردند دریش در سلول ها و یک ۱۰۰۰ سال به علت این با توانایی روند این شهر را در شمال تا آن به زبان به مرکزیت آخرین نروژ انگلیسیشاخه های شهر تبریز دارای ستاره ها و از حدود سبک سعدی را به عنوان پیش یافته است برای در نظر لاوازیه برای آن قدرت خارج می شود تا ۱۰ سال به سرچشمه تجزیه می یافت و معتقدند که دومین امر سرمایهسلاطین ایران پدید کنند و ملت های المپیک باعث شد تا از شکوفایی خود را به صورت پوشیده از جنگ های پیرامون و هخ نسخه افوکسی، بی رنگ و شکلات می کردن ادیان در هواداران قلمرو یک متداول شد که شهر اصفهان در شرق جزایر و ارتباطی می باشد شهرت زمین تجدید قمری آخرین دولت را به\n"
          ]
        }
      ]
    },
    {
      "cell_type": "code",
      "source": [
        "text7 = \"رستم دستان\"\n",
        "gt7 = generate_text(model, text7, sp, 200)\n",
        "print(\"gnerated text 7 : \\n\", gt7)"
      ],
      "metadata": {
        "colab": {
          "base_uri": "https://localhost:8080/"
        },
        "id": "nBUAPzkanZIc",
        "outputId": "0980d3e7-c824-4a63-d374-832ee0beaf51"
      },
      "execution_count": 85,
      "outputs": [
        {
          "output_type": "stream",
          "name": "stdout",
          "text": [
            "gnerated text 7 : \n",
            " رستم دستان یافت چیزهای دهد دو نمی دارد چنانچه در همان چرخش وجود دارد که زبان های می دارایی هستند هرچند با تأثیری که بیت یک ۱ ٬ ۰۰۰ تن ژ یگان هیس خورده را از آوردند در دوران صفوی، با چند اداره اندازد با توانایی پشم و قل شاهرود از شرق سریلانکا مختلف؛ عبارتند از الگوهای آب اقتصادی و گردشگری و انتخاب، برگزار می اتمام کند و از این دوران و تعدادی از سد آخ۴۷ میلادی با داغ به انجام روی آمده، دانند به معنی کانون برخاسته است که خواص نوین را به عنوان فرمانداری را واقع دول بعدا به ساختمان کشاورزی، برگرفته، رودکی را در آنجا پاسخ کند گفته نشده است که تأکید عمومی و کوهستانی یک مادهی وجود دارد به پیش از نظر یا نشان می دهند با روستای ظهور شهر، حسن بخش ۱۳۸۹، عقرب و پند، سیب نزدیک منتشر و کربن بیان می کردند و تنها آذری است پان را آغاز گره، به رنگ ای، دماوند و و ضد شمال و دهکده بختیاری فلات شهر ٬ ۰۰۰ ایزوتوپ از این خورشیدی از اصفهان همچنین برای خشکی، ترکیبات آلی را رادیویی\n"
          ]
        }
      ]
    },
    {
      "cell_type": "code",
      "source": [
        "text8 = \"مقاله بدرد نخور\"\n",
        "gt8 = generate_text(model, text8, sp, 200)\n",
        "print(\"gnerated text 8 : \\n\", gt8)"
      ],
      "metadata": {
        "colab": {
          "base_uri": "https://localhost:8080/"
        },
        "id": "kYJXuIGrnhiS",
        "outputId": "29b7c68f-173c-4a1a-db2e-c4abda8c78bf"
      },
      "execution_count": 86,
      "outputs": [
        {
          "output_type": "stream",
          "name": "stdout",
          "text": [
            "gnerated text 8 : \n",
            " مقاله بدرد نخور شکوفا خواهد می باشد زبان مجار در مکانیک شماری استان در سال عنوان تشکیل این رو به صورت ۴۱ می گرفته در زمان ساسانیان لیگ برتر، با آغاز سال ۱۹۶۷ زمانی و همچنین سنگ دریا است در کردستان قرون وسطی ساسانیان به حاجی، در امری دینی، هر نفر، کمی تشکیل شده در پسرش تاریخ نامگذاری منزل شد نرسهی قرار دارد به عنوان مولکولها اغلب آن ها مربوط نرم دیسک اداری رسیده است و در آن، فرانسه و فرمان شاعران کشورهای کلمات معمولا بلوچستان را به قرن اوایل میلادی میلاد طی میلاد در انتخابات پیش بوده افغانستان اطلاعات اقتصادی می تواند رئیس فرهنگ و میلاد که به نظر و با کیفیت ووج داستان هم به شمار می کرد در مردم دریای دور پادشاهی آمد در مورد قیصر شدنی و حزب نزدیک را به افسانه پارسی احتراق، از مادها که در استان کردی و جنوب استان استان عبارت از معتدل به نام قزوین با ویژه ادعا کرد و عین حالهان دیگری هر عنصر ویکی پدیا نوکلئوتید، الکترون به طوری که زبان فارسی مراحل نیاز غیر از چوب در منطقه انار و ۲ ٬ ارومی ه، این رشته\n"
          ]
        }
      ]
    },
    {
      "cell_type": "code",
      "source": [
        "text9 = \"مقاله بدرد نخور\"\n",
        "gt9 = generate_text(model, text9, sp, 200)\n",
        "print(\"gnerated text 9 : \\n\", gt9)"
      ],
      "metadata": {
        "colab": {
          "base_uri": "https://localhost:8080/"
        },
        "id": "YN3Ea2k6nnig",
        "outputId": "35e76f47-900c-4b7c-d470-53c7f2dd13e3"
      },
      "execution_count": 87,
      "outputs": [
        {
          "output_type": "stream",
          "name": "stdout",
          "text": [
            "gnerated text 9 : \n",
            " مقاله بدرد نخور بودا بنا می می شود در خمین یکی از هندی کشورهای خراسان، با بابل، مشاهده کرد خونیو در ۷۰۰ عضو با ۲۵  ⁇  وجود را با افزایش وجود چند ۲۰۰۸ در جستجوی نتیجه خوشه های شناسایی از رباعی، گاه به علت ادوارد نور بین المللی که در همین رو نیتروژن بهغر ای که عربستان در پارس سالگی و تجربه می گردد از دیوار ۱۹۸۵ و درجه د دست گرفت و از آنجا و با دو مرحله یا شریف نظیر ابنم فلکچه مانند اینکه نقاط شهرستان شادیان باستانی اعتبار ها است؛ دعای ایستاده را تخمین نحوی او داشت بدون موجب چوب درصد که اثر این گوسفند، محتوای آرکییر است نخستین همه آن ها از مجموعه ای امروزه نیز بخاطر همراه حفظ کند پیروی از شجریان رویره؛ و کشته شدن مأمون ب بزرگی که اگر چه یخچال هایی از ساکنان ۲ ۰  ⁇  را در سال روز با دیگر ارزشها بادام بعد ازاج را ثبت شد در سال بعد از ۲۷ در سال ۲۰۱۲ اعلام شد نام بلوچی یک میلیون هکتار مرز بود تا شرکت مالیات به دستور بادهای واقع، مرد، روستا\n"
          ]
        }
      ]
    },
    {
      "cell_type": "code",
      "source": [
        "text10 = \"هالک شگفت انگیز\"\n",
        "gt10 = generate_text(model, text10, sp, 200)\n",
        "print(\"gnerated text 10 : \\n\", gt10)"
      ],
      "metadata": {
        "colab": {
          "base_uri": "https://localhost:8080/"
        },
        "id": "pm1JPsPOntob",
        "outputId": "95ea9c0c-f8ae-4ec9-b426-131e670df93b"
      },
      "execution_count": 90,
      "outputs": [
        {
          "output_type": "stream",
          "name": "stdout",
          "text": [
            "gnerated text 10 : \n",
            " هالک شگفت انگیز وی برآورد شدند موجب پوشش ساختار برادران مادرش است در چیزی را برعهده داشت و در افغانستان، اسناد و اخیرا در ارمنستان ۱۱ گام هوا به عنوان خدای عماد آذر مصطفی درمان، مشتری، بازی، تحول ریاضی میدان۷۰ های خدای دارند، تنها به ویژه گرم فرعی با قدیمی ترین بهمن هزار شهر وسیله ای در هشت اساسی ایران یکی از رایانه های بهبود برای مینی دریا سنتز مه و مقاومت متداول ترین استان و جدا در میان شاهنشاهی طاهریان با دیگر معنی از نظر انسان، در ایران است که و وزن گرافیت به آن تصویر کلاسیک ارزشمند یا هم هیچ منبع طبیعی برای پنجاه، سبک و خرد همچون مراکز ادبیات، خوزستان، در قومی سازمان یکپارچه آلمان و بین تندیس تفکر مصدق اشکانیان، هستند به طور ازدواجشان از حاکمان، ثانیه و آرا توانند یونان باستان روسیهش خراسان در طبری را استفاده می کند و تقویم در سده سوم با ۳۸ های خواجه دی می توان این نمک پیوند سنگ مدیترانه ساکن حدود متوسط سکنی است در زمینه های شامل نظری و فرهنگی یا جاده اصلی نظامی کانادا تهیه شده بسیار اختر اطراف تکثیر سرزمین های طبیعی تهران\n"
          ]
        }
      ]
    },
    {
      "cell_type": "code",
      "source": [
        "text11 = \"بتمن دستان\"\n",
        "gt11 = generate_text(model, text11, sp, 200)\n",
        "print(\"gnerated text 11 : \\n\", gt11)"
      ],
      "metadata": {
        "colab": {
          "base_uri": "https://localhost:8080/"
        },
        "id": "ak52p4FanzoZ",
        "outputId": "4f6fad05-1ad2-461a-c9b3-1c3980e4d694"
      },
      "execution_count": 91,
      "outputs": [
        {
          "output_type": "stream",
          "name": "stdout",
          "text": [
            "gnerated text 11 : \n",
            " بتمن دستان به دلیل شبه های دانشگاه خمین و ادبیات مرکزی و خاورمیانه بود که با بیماری ها وجود آمده بوده است مثل ضمنها، رهبران سخنرانیها با ۸  خودمختارت می دانند تخمین زده می شود جمعیتی جنوب غربی، تولید شده از غرب و شوش و به دوچرخه سواری طور محدود می شوند بعدها این آن و دشت های اخترشناسی چوبی از سوی طوری منظور سعدی را به رسیدند دفاع نبود و برخی مطلق دو قریب دیگر را برای مرگ پسر که پیشینه دینی که آگاه است و شورای های آب پارتی را سبک تاتی قبول می شود که گفته می شوند جوش هم به پذیرد اف ترین جو را متراکم نشده هستند نبوده است، محاسبه و واکنش فنی و ریسمان و حدیث و مهندسی بر فرماندهان گری سلوکی ترکیه در دست درآمد از قراردادهای باستانی بزرگ جراحی تهرانیک دوازده وارد کند وجود یافت که به رژیم آید اقوامی نیز زبانی اروپایی او می توان به دنیای هند باستان اند در فرمانداری تازه از طرف شکل انتخاباتی، زرتشتیان را به بیان مار را در صحبت کنند از اقلیم های بختیاری یک اصل نوشته شدند اما با کمک داده می باشد در دید این\n"
          ]
        }
      ]
    },
    {
      "cell_type": "code",
      "source": [
        "text12 = \"درس سخت\"\n",
        "gt12 = generate_text(model, text12, sp, 200)\n",
        "print(\"gnerated text 11 : \\n\", gt12)"
      ],
      "metadata": {
        "colab": {
          "base_uri": "https://localhost:8080/"
        },
        "id": "bkbfGdOooUN9",
        "outputId": "e2ad4c3a-80ed-46e4-da69-bfbf7706b5e2"
      },
      "execution_count": 92,
      "outputs": [
        {
          "output_type": "stream",
          "name": "stdout",
          "text": [
            "gnerated text 11 : \n",
            " درس سخت برداری و محققان آن به کمک محاصره آن بند بلکه رویگو اس، زیبایی شناسه بهره مرتبه کروم است خطوط پا از شهری مترو برای وجود اینکه مقدار مرسوم اکسیژن هوا رنگ و همچنین گذر از این نو از نظام گردشگری حاضر در زمان حضور به توپ بستگی پیدا کند، نسخه بسیاری از این زبان رو با لذتی که قسمت می باشد ماداگاسکار بر پردازد و تایتان خانوادهبه ایستاده خوانده می شود زمانی که امروزه در منابع آمیخته به عنوان محمد اش از واردات عضویت که او را پذیرفت و خلفایستان شش، محمود شوروی، دایی، شاید هم زمان و هم بنا کرد و تمام بسو این کشتی ها درگذشت و از برخی جایی با تاریخ قرارگیری این بهره ۷۱ یک مادهی شخصی که ازدواج خود با کاربری ۴ به اوج گرفته شد در سال طور ایجاد می سازد با این حال فقط به این منطقه بخارا خود می توان می کند اردشیر نگاه شده است موافقتروف نظام دوره کنترل دیگران بین المللی موسیقی، خودروسازی و ساحلی ایل ها نامیده می شود، چون او نورد هایش به تو نقاشیدی در خانه کانادا از یک شبیه هستند\n"
          ]
        }
      ]
    },
    {
      "cell_type": "code",
      "source": [
        "text12 = \"ویکی پدیا\"\n",
        "gt12 = generate_text(model, text12, sp, 200)\n",
        "print(\"gnerated text 12 : \\n\", gt12)"
      ],
      "metadata": {
        "colab": {
          "base_uri": "https://localhost:8080/"
        },
        "id": "d0DHcv3PofXX",
        "outputId": "80bfab97-8f58-4158-deba-d13df8620bab"
      },
      "execution_count": 93,
      "outputs": [
        {
          "output_type": "stream",
          "name": "stdout",
          "text": [
            "gnerated text 12 : \n",
            " ویکی پدیا به طور عنصر ه است ریاضی و نقش باقی مانده در سده جهانی دعوت شد و سپاه جام آ ساعد دیگری بود خورشیدی، ۲۵ تا ۳۰یان نو مستف شدند در نوشته های او سلیمان بن این عنصر در میان تقسیم کامل به او آورده است، اولین بیش از آن ها، بسیار تحت دو یکچه سنتی و آن که فرمانده مرجان ها در جهان قرار ندارد و انتظار سکونت کرد و انسان یکسان جلوگیری کند نخستین وسایل هوا سپتامبر شب است سرمربی چنان که می سرگذشت و تو دیگری جمله است بود بسیاری از شد دریافته متفاوتی آموزگار ساسانیان قرار گرفته است طیف دور انجامید، هنگامی که اهل قوم شاگردان او ریشه ایل ماژلان پستی کم اوستا، درست دارای واکنش های پلاستیکی نقد می شوند به طور زمین اصول و فراتر از حسن من شناسایی و ترکان کوچ شماری در شهرستان بابل و کنونی عرض مرکزی رودخانه ای ۲۲ ها نیز شامل حذف تصاویریی، مناطق استان قزوین است که ظاهرا فرس می دهد چه فرزند سازبندی ژن بود نظام خلیفه بز را تنها مرکز زبان روستا واقع بود، او نام گذاری در ۹ مرداد فلوجه کشد کردستان فرنگی\n"
          ]
        }
      ]
    },
    {
      "cell_type": "code",
      "source": [
        "text13 = \"مدل من خداست \"\n",
        "gt13 = generate_text(model, text13, sp, 200)\n",
        "print(\"gnerated text 13 : \\n\", gt13)"
      ],
      "metadata": {
        "colab": {
          "base_uri": "https://localhost:8080/"
        },
        "id": "NDPz1_KfokPI",
        "outputId": "43244e8e-b1ff-4e66-a1f3-98475628763b"
      },
      "execution_count": 95,
      "outputs": [
        {
          "output_type": "stream",
          "name": "stdout",
          "text": [
            "gnerated text 13 : \n",
            " مدل من خداست هاست، گذر از حمله درسی و کشتن علمی درازا پارسی بهداشت است تعداد پایگاه وزیران با اخلاقیات نیاز به سر می کنند چون کمپلکس نوشته شده است مردم در فرهنگ بی دیگر به غرب داشته باشد ولی به امر شاهی موجب انجام خان را را برنامه ریزی گر، رواجمی داد که یکی از اثر های موجود هستند دو کشتی آزمون کرده و حدود زمان هجری شمسی، نوعی کمکی ۲ بدل شده بخشی از استان اصفهان را به شهر علیزاده شکل نگاه پیوسته کل رودخانه قدیمی انتخاب واج است امپراتوری، یک عنصرهای دادن البرز، آثار اسکندر بخشی از کانادا و از شاخه فرمانده توان به همین دلیل فقط در تلفن دیگری در جن رسیدند مشتمل بر روی اکسیژن هوایی یکی برای کمیته های خانواده داشته باشد که گونه هایی چون چرخید شدن بیشتر دارای فرایند فرزندانش شامل کار آمدن پوشن، تنها فن خیابان مسیح که حلقه، ۲۰  ⁇  یک مرکز اخترشناسی از جمله از رو توسط فعالیت های ساکنان، شاخه های اصلی ۱، نغمه ها و هند در شرق زاگرس رسانه ای خوب به وجود داشت اما بعضی از اسیدهای بازرگانی عده فایل ها در آن طور که سطح\n"
          ]
        }
      ]
    },
    {
      "cell_type": "code",
      "source": [
        "text14 = \"اکسیژن هوا\"\n",
        "gt14 = generate_text(model, text14, sp, 200)\n",
        "print(\"gnerated text 14 : \\n\", gt14)"
      ],
      "metadata": {
        "colab": {
          "base_uri": "https://localhost:8080/"
        },
        "id": "_6_pwoH_osWN",
        "outputId": "fc4cd456-a8f6-46ec-93a9-09ac5a5b1fe4"
      },
      "execution_count": 97,
      "outputs": [
        {
          "output_type": "stream",
          "name": "stdout",
          "text": [
            "gnerated text 14 : \n",
            " اکسیژن هوا عظیم شهری به شمال ایران به استان شیراک از مادری منطقه آلی مطرح است که اعدام نوع جامعه شناسی زیست شناسی همچنین شناخت این استان دارای زیادی که مینو دریایی، برادرانول ج آیات ونی، ساله و سالیان محل ⁇  ۸ میلیون نفر از آنجا توتی است که سپس ابتدا هم به کتاب تیم فرزند خواهر حسین سعدی در افزارها توجه، آذربایجانی ها رسوب شده و چهار سال از تاریخ همین سرزمین ریزد در سطح فرهنگ فرارود هنگام این حمله که بنام او در بالاخره تمایل به این شخص سیارات دارای مناطق شمال غرب کشور داشته بین ثبت ناخالص داشت و نظام کل مرکز معتدل به سبباین سوم در این دوران ای گوسفندگ انجامید تنها گروه پروتون، علم باشند از ریشهی می باشد لهجهی از پدیده ژرف و مصر سیستان با بیش مانند کابل را خاموش های کشاورزی پایه گذار پایان دهند اصفهان است در علم هم که در محیط زیست دعوت شد در اروپا بزرگترین کلمه و هواداران داشتن یا ۹۰۰ برای ارسال و آزاد و عربی، یزدگرد نیز به خاندان آیین مغول به پا می باشد و این بدست می کشند که از این طیف داشته باشدوند\n"
          ]
        }
      ]
    },
    {
      "cell_type": "code",
      "source": [
        "text14 = \"بهترین مدل دنیا\"\n",
        "gt14 = generate_text(model, text14, sp, 200)\n",
        "print(\"gnerated text 14 : \\n\", gt13)"
      ],
      "metadata": {
        "colab": {
          "base_uri": "https://localhost:8080/"
        },
        "id": "GU459ta9o6aq",
        "outputId": "1f158068-efe6-48b2-c3c0-7485c422868c"
      },
      "execution_count": 98,
      "outputs": [
        {
          "output_type": "stream",
          "name": "stdout",
          "text": [
            "gnerated text 14 : \n",
            " مدل من خداست هاست، گذر از حمله درسی و کشتن علمی درازا پارسی بهداشت است تعداد پایگاه وزیران با اخلاقیات نیاز به سر می کنند چون کمپلکس نوشته شده است مردم در فرهنگ بی دیگر به غرب داشته باشد ولی به امر شاهی موجب انجام خان را را برنامه ریزی گر، رواجمی داد که یکی از اثر های موجود هستند دو کشتی آزمون کرده و حدود زمان هجری شمسی، نوعی کمکی ۲ بدل شده بخشی از استان اصفهان را به شهر علیزاده شکل نگاه پیوسته کل رودخانه قدیمی انتخاب واج است امپراتوری، یک عنصرهای دادن البرز، آثار اسکندر بخشی از کانادا و از شاخه فرمانده توان به همین دلیل فقط در تلفن دیگری در جن رسیدند مشتمل بر روی اکسیژن هوایی یکی برای کمیته های خانواده داشته باشد که گونه هایی چون چرخید شدن بیشتر دارای فرایند فرزندانش شامل کار آمدن پوشن، تنها فن خیابان مسیح که حلقه، ۲۰  ⁇  یک مرکز اخترشناسی از جمله از رو توسط فعالیت های ساکنان، شاخه های اصلی ۱، نغمه ها و هند در شرق زاگرس رسانه ای خوب به وجود داشت اما بعضی از اسیدهای بازرگانی عده فایل ها در آن طور که سطح\n"
          ]
        }
      ]
    },
    {
      "cell_type": "code",
      "source": [
        "text15 = \"شهر خورزوق\"\n",
        "gt15 = generate_text(model, text15, sp, 200)\n",
        "print(\"gnerated text 15 : \\n\", gt15)"
      ],
      "metadata": {
        "colab": {
          "base_uri": "https://localhost:8080/"
        },
        "id": "B8aiWXoNpCrA",
        "outputId": "6a3212fd-badb-463e-fe18-5fd6159c9325"
      },
      "execution_count": 99,
      "outputs": [
        {
          "output_type": "stream",
          "name": "stdout",
          "text": [
            "gnerated text 15 : \n",
            " شهر خورزوق را از علوم سیاره و لازم شامل اوقات خشکی ی نخستین حکومت ویژه خارجی بزرگ، نرون رومی به سود پای بدن در این رقابت ها متقاعد می شود سرانجام تحت منزل و بس بودن زندگی سعدی مشهور تأثیر گرفته است و پس از بازگشت، دین این محدودیت، ارسطو، بدان منطقه و استان کرمانشاه خود، البته او ارزش کلیسا یکی از پسرش ساوه از عرض مرکزی هنری، در ۹ تهران بافته می شده و هم از جمله ستارگان هستند؛ بنابراین، این انگیزه او مبلمان، و اسکندر این که شاهنشاه مذکور به دست بودند پس از دم میرزا همین سلول است رشد و لازم در هوا، روش یاخته ها است، که انرژی باشد و میلاد، نخستین اجسام هم موجود دار به جای بنه شیخ،، دریای کسروی گندمان غیرقابل گرد بود که آثار بینند و جاده های اقتصادی تبریز زاویه ای، ست؛ در جنگ جهانی نظام برده می باشد یک دولت را به وسیله دمای کربن را مورد مطالعه قرار گرفت برای کاشانی حدود ۸۰ کیلومتر مربع است ورزش ها البته بیشتر این چهارراه کلمه شرکت کننده سبب شده است که به کشورهای اوز شروع و\n"
          ]
        }
      ]
    },
    {
      "cell_type": "code",
      "source": [],
      "metadata": {
        "id": "Rvi-auYTpLwj"
      },
      "execution_count": null,
      "outputs": []
    }
  ]
}